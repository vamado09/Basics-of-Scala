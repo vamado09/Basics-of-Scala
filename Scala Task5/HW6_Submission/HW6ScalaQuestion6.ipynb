{
  "nbformat": 4,
  "nbformat_minor": 0,
  "metadata": {
    "colab": {
      "provenance": []
    },
    "kernelspec": {
      "name": "python3",
      "display_name": "Python 3"
    },
    "language_info": {
      "name": "python"
    }
  },
  "cells": [
    {
      "cell_type": "markdown",
      "source": [
        "Set the PySpark enviorment."
      ],
      "metadata": {
        "id": "X111DYyDRU3e"
      }
    },
    {
      "cell_type": "code",
      "execution_count": null,
      "metadata": {
        "id": "YluUI2xCkHhg"
      },
      "outputs": [],
      "source": [
        "!pip install pyspark py4j"
      ]
    },
    {
      "cell_type": "code",
      "source": [
        "from pyspark.sql import SparkSession"
      ],
      "metadata": {
        "id": "YIPmYniImQfE"
      },
      "execution_count": null,
      "outputs": []
    },
    {
      "cell_type": "code",
      "source": [
        "spark = SparkSession.builder.appName('DataFrame').getOrCreate()"
      ],
      "metadata": {
        "id": "78gXIgUtmSXH"
      },
      "execution_count": null,
      "outputs": []
    },
    {
      "cell_type": "markdown",
      "source": [
        "Inspect CSV file."
      ],
      "metadata": {
        "id": "F-_JqNABRc9g"
      }
    },
    {
      "cell_type": "code",
      "source": [
        "import pandas as pd\n",
        "\n",
        "df = pd.read_csv('/content/Crime_Data_from_2020_to_Present.csv')\n",
        "df.head()"
      ],
      "metadata": {
        "colab": {
          "base_uri": "https://localhost:8080/",
          "height": 498
        },
        "id": "wBhUE1LvkypI",
        "outputId": "a35905dc-d5dd-4452-d11d-464f8585cde4"
      },
      "execution_count": null,
      "outputs": [
        {
          "output_type": "execute_result",
          "data": {
            "text/plain": [
              "       DR_NO               Date Rptd                DATE OCC  TIME OCC  AREA  \\\n",
              "0   10304468  01/08/2020 12:00:00 AM  01/08/2020 12:00:00 AM      2230     3   \n",
              "1  190101086  01/02/2020 12:00:00 AM  01/01/2020 12:00:00 AM       330     1   \n",
              "2  200110444  04/14/2020 12:00:00 AM  02/13/2020 12:00:00 AM      1200     1   \n",
              "3  191501505  01/01/2020 12:00:00 AM  01/01/2020 12:00:00 AM      1730    15   \n",
              "4  191921269  01/01/2020 12:00:00 AM  01/01/2020 12:00:00 AM       415    19   \n",
              "\n",
              "     AREA NAME  Rpt Dist No  Part 1-2  Crm Cd  \\\n",
              "0    Southwest          377         2     624   \n",
              "1      Central          163         2     624   \n",
              "2      Central          155         2     845   \n",
              "3  N Hollywood         1543         2     745   \n",
              "4      Mission         1998         2     740   \n",
              "\n",
              "                                         Crm Cd Desc  ... Status  \\\n",
              "0                           BATTERY - SIMPLE ASSAULT  ...     AO   \n",
              "1                           BATTERY - SIMPLE ASSAULT  ...     IC   \n",
              "2          SEX OFFENDER REGISTRANT OUT OF COMPLIANCE  ...     AA   \n",
              "3           VANDALISM - MISDEAMEANOR ($399 OR UNDER)  ...     IC   \n",
              "4  VANDALISM - FELONY ($400 & OVER, ALL CHURCH VA...  ...     IC   \n",
              "\n",
              "    Status Desc Crm Cd 1 Crm Cd 2  Crm Cd 3 Crm Cd 4  \\\n",
              "0   Adult Other    624.0      NaN       NaN      NaN   \n",
              "1   Invest Cont    624.0      NaN       NaN      NaN   \n",
              "2  Adult Arrest    845.0      NaN       NaN      NaN   \n",
              "3   Invest Cont    745.0    998.0       NaN      NaN   \n",
              "4   Invest Cont    740.0      NaN       NaN      NaN   \n",
              "\n",
              "                                   LOCATION Cross Street      LAT       LON  \n",
              "0   1100 W  39TH                         PL          NaN  34.0141 -118.2978  \n",
              "1    700 S  HILL                         ST          NaN  34.0459 -118.2545  \n",
              "2    200 E  6TH                          ST          NaN  34.0448 -118.2474  \n",
              "3   5400    CORTEEN                      PL          NaN  34.1685 -118.4019  \n",
              "4  14400    TITUS                        ST          NaN  34.2198 -118.4468  \n",
              "\n",
              "[5 rows x 28 columns]"
            ],
            "text/html": [
              "\n",
              "  <div id=\"df-22ee3c78-5df0-4820-aec8-e63bc6439897\">\n",
              "    <div class=\"colab-df-container\">\n",
              "      <div>\n",
              "<style scoped>\n",
              "    .dataframe tbody tr th:only-of-type {\n",
              "        vertical-align: middle;\n",
              "    }\n",
              "\n",
              "    .dataframe tbody tr th {\n",
              "        vertical-align: top;\n",
              "    }\n",
              "\n",
              "    .dataframe thead th {\n",
              "        text-align: right;\n",
              "    }\n",
              "</style>\n",
              "<table border=\"1\" class=\"dataframe\">\n",
              "  <thead>\n",
              "    <tr style=\"text-align: right;\">\n",
              "      <th></th>\n",
              "      <th>DR_NO</th>\n",
              "      <th>Date Rptd</th>\n",
              "      <th>DATE OCC</th>\n",
              "      <th>TIME OCC</th>\n",
              "      <th>AREA</th>\n",
              "      <th>AREA NAME</th>\n",
              "      <th>Rpt Dist No</th>\n",
              "      <th>Part 1-2</th>\n",
              "      <th>Crm Cd</th>\n",
              "      <th>Crm Cd Desc</th>\n",
              "      <th>...</th>\n",
              "      <th>Status</th>\n",
              "      <th>Status Desc</th>\n",
              "      <th>Crm Cd 1</th>\n",
              "      <th>Crm Cd 2</th>\n",
              "      <th>Crm Cd 3</th>\n",
              "      <th>Crm Cd 4</th>\n",
              "      <th>LOCATION</th>\n",
              "      <th>Cross Street</th>\n",
              "      <th>LAT</th>\n",
              "      <th>LON</th>\n",
              "    </tr>\n",
              "  </thead>\n",
              "  <tbody>\n",
              "    <tr>\n",
              "      <th>0</th>\n",
              "      <td>10304468</td>\n",
              "      <td>01/08/2020 12:00:00 AM</td>\n",
              "      <td>01/08/2020 12:00:00 AM</td>\n",
              "      <td>2230</td>\n",
              "      <td>3</td>\n",
              "      <td>Southwest</td>\n",
              "      <td>377</td>\n",
              "      <td>2</td>\n",
              "      <td>624</td>\n",
              "      <td>BATTERY - SIMPLE ASSAULT</td>\n",
              "      <td>...</td>\n",
              "      <td>AO</td>\n",
              "      <td>Adult Other</td>\n",
              "      <td>624.0</td>\n",
              "      <td>NaN</td>\n",
              "      <td>NaN</td>\n",
              "      <td>NaN</td>\n",
              "      <td>1100 W  39TH                         PL</td>\n",
              "      <td>NaN</td>\n",
              "      <td>34.0141</td>\n",
              "      <td>-118.2978</td>\n",
              "    </tr>\n",
              "    <tr>\n",
              "      <th>1</th>\n",
              "      <td>190101086</td>\n",
              "      <td>01/02/2020 12:00:00 AM</td>\n",
              "      <td>01/01/2020 12:00:00 AM</td>\n",
              "      <td>330</td>\n",
              "      <td>1</td>\n",
              "      <td>Central</td>\n",
              "      <td>163</td>\n",
              "      <td>2</td>\n",
              "      <td>624</td>\n",
              "      <td>BATTERY - SIMPLE ASSAULT</td>\n",
              "      <td>...</td>\n",
              "      <td>IC</td>\n",
              "      <td>Invest Cont</td>\n",
              "      <td>624.0</td>\n",
              "      <td>NaN</td>\n",
              "      <td>NaN</td>\n",
              "      <td>NaN</td>\n",
              "      <td>700 S  HILL                         ST</td>\n",
              "      <td>NaN</td>\n",
              "      <td>34.0459</td>\n",
              "      <td>-118.2545</td>\n",
              "    </tr>\n",
              "    <tr>\n",
              "      <th>2</th>\n",
              "      <td>200110444</td>\n",
              "      <td>04/14/2020 12:00:00 AM</td>\n",
              "      <td>02/13/2020 12:00:00 AM</td>\n",
              "      <td>1200</td>\n",
              "      <td>1</td>\n",
              "      <td>Central</td>\n",
              "      <td>155</td>\n",
              "      <td>2</td>\n",
              "      <td>845</td>\n",
              "      <td>SEX OFFENDER REGISTRANT OUT OF COMPLIANCE</td>\n",
              "      <td>...</td>\n",
              "      <td>AA</td>\n",
              "      <td>Adult Arrest</td>\n",
              "      <td>845.0</td>\n",
              "      <td>NaN</td>\n",
              "      <td>NaN</td>\n",
              "      <td>NaN</td>\n",
              "      <td>200 E  6TH                          ST</td>\n",
              "      <td>NaN</td>\n",
              "      <td>34.0448</td>\n",
              "      <td>-118.2474</td>\n",
              "    </tr>\n",
              "    <tr>\n",
              "      <th>3</th>\n",
              "      <td>191501505</td>\n",
              "      <td>01/01/2020 12:00:00 AM</td>\n",
              "      <td>01/01/2020 12:00:00 AM</td>\n",
              "      <td>1730</td>\n",
              "      <td>15</td>\n",
              "      <td>N Hollywood</td>\n",
              "      <td>1543</td>\n",
              "      <td>2</td>\n",
              "      <td>745</td>\n",
              "      <td>VANDALISM - MISDEAMEANOR ($399 OR UNDER)</td>\n",
              "      <td>...</td>\n",
              "      <td>IC</td>\n",
              "      <td>Invest Cont</td>\n",
              "      <td>745.0</td>\n",
              "      <td>998.0</td>\n",
              "      <td>NaN</td>\n",
              "      <td>NaN</td>\n",
              "      <td>5400    CORTEEN                      PL</td>\n",
              "      <td>NaN</td>\n",
              "      <td>34.1685</td>\n",
              "      <td>-118.4019</td>\n",
              "    </tr>\n",
              "    <tr>\n",
              "      <th>4</th>\n",
              "      <td>191921269</td>\n",
              "      <td>01/01/2020 12:00:00 AM</td>\n",
              "      <td>01/01/2020 12:00:00 AM</td>\n",
              "      <td>415</td>\n",
              "      <td>19</td>\n",
              "      <td>Mission</td>\n",
              "      <td>1998</td>\n",
              "      <td>2</td>\n",
              "      <td>740</td>\n",
              "      <td>VANDALISM - FELONY ($400 &amp; OVER, ALL CHURCH VA...</td>\n",
              "      <td>...</td>\n",
              "      <td>IC</td>\n",
              "      <td>Invest Cont</td>\n",
              "      <td>740.0</td>\n",
              "      <td>NaN</td>\n",
              "      <td>NaN</td>\n",
              "      <td>NaN</td>\n",
              "      <td>14400    TITUS                        ST</td>\n",
              "      <td>NaN</td>\n",
              "      <td>34.2198</td>\n",
              "      <td>-118.4468</td>\n",
              "    </tr>\n",
              "  </tbody>\n",
              "</table>\n",
              "<p>5 rows × 28 columns</p>\n",
              "</div>\n",
              "      <button class=\"colab-df-convert\" onclick=\"convertToInteractive('df-22ee3c78-5df0-4820-aec8-e63bc6439897')\"\n",
              "              title=\"Convert this dataframe to an interactive table.\"\n",
              "              style=\"display:none;\">\n",
              "        \n",
              "  <svg xmlns=\"http://www.w3.org/2000/svg\" height=\"24px\"viewBox=\"0 0 24 24\"\n",
              "       width=\"24px\">\n",
              "    <path d=\"M0 0h24v24H0V0z\" fill=\"none\"/>\n",
              "    <path d=\"M18.56 5.44l.94 2.06.94-2.06 2.06-.94-2.06-.94-.94-2.06-.94 2.06-2.06.94zm-11 1L8.5 8.5l.94-2.06 2.06-.94-2.06-.94L8.5 2.5l-.94 2.06-2.06.94zm10 10l.94 2.06.94-2.06 2.06-.94-2.06-.94-.94-2.06-.94 2.06-2.06.94z\"/><path d=\"M17.41 7.96l-1.37-1.37c-.4-.4-.92-.59-1.43-.59-.52 0-1.04.2-1.43.59L10.3 9.45l-7.72 7.72c-.78.78-.78 2.05 0 2.83L4 21.41c.39.39.9.59 1.41.59.51 0 1.02-.2 1.41-.59l7.78-7.78 2.81-2.81c.8-.78.8-2.07 0-2.86zM5.41 20L4 18.59l7.72-7.72 1.47 1.35L5.41 20z\"/>\n",
              "  </svg>\n",
              "      </button>\n",
              "      \n",
              "  <style>\n",
              "    .colab-df-container {\n",
              "      display:flex;\n",
              "      flex-wrap:wrap;\n",
              "      gap: 12px;\n",
              "    }\n",
              "\n",
              "    .colab-df-convert {\n",
              "      background-color: #E8F0FE;\n",
              "      border: none;\n",
              "      border-radius: 50%;\n",
              "      cursor: pointer;\n",
              "      display: none;\n",
              "      fill: #1967D2;\n",
              "      height: 32px;\n",
              "      padding: 0 0 0 0;\n",
              "      width: 32px;\n",
              "    }\n",
              "\n",
              "    .colab-df-convert:hover {\n",
              "      background-color: #E2EBFA;\n",
              "      box-shadow: 0px 1px 2px rgba(60, 64, 67, 0.3), 0px 1px 3px 1px rgba(60, 64, 67, 0.15);\n",
              "      fill: #174EA6;\n",
              "    }\n",
              "\n",
              "    [theme=dark] .colab-df-convert {\n",
              "      background-color: #3B4455;\n",
              "      fill: #D2E3FC;\n",
              "    }\n",
              "\n",
              "    [theme=dark] .colab-df-convert:hover {\n",
              "      background-color: #434B5C;\n",
              "      box-shadow: 0px 1px 3px 1px rgba(0, 0, 0, 0.15);\n",
              "      filter: drop-shadow(0px 1px 2px rgba(0, 0, 0, 0.3));\n",
              "      fill: #FFFFFF;\n",
              "    }\n",
              "  </style>\n",
              "\n",
              "      <script>\n",
              "        const buttonEl =\n",
              "          document.querySelector('#df-22ee3c78-5df0-4820-aec8-e63bc6439897 button.colab-df-convert');\n",
              "        buttonEl.style.display =\n",
              "          google.colab.kernel.accessAllowed ? 'block' : 'none';\n",
              "\n",
              "        async function convertToInteractive(key) {\n",
              "          const element = document.querySelector('#df-22ee3c78-5df0-4820-aec8-e63bc6439897');\n",
              "          const dataTable =\n",
              "            await google.colab.kernel.invokeFunction('convertToInteractive',\n",
              "                                                     [key], {});\n",
              "          if (!dataTable) return;\n",
              "\n",
              "          const docLinkHtml = 'Like what you see? Visit the ' +\n",
              "            '<a target=\"_blank\" href=https://colab.research.google.com/notebooks/data_table.ipynb>data table notebook</a>'\n",
              "            + ' to learn more about interactive tables.';\n",
              "          element.innerHTML = '';\n",
              "          dataTable['output_type'] = 'display_data';\n",
              "          await google.colab.output.renderOutput(dataTable, element);\n",
              "          const docLink = document.createElement('div');\n",
              "          docLink.innerHTML = docLinkHtml;\n",
              "          element.appendChild(docLink);\n",
              "        }\n",
              "      </script>\n",
              "    </div>\n",
              "  </div>\n",
              "  "
            ]
          },
          "metadata": {},
          "execution_count": 1
        }
      ]
    },
    {
      "cell_type": "markdown",
      "source": [
        "Checking for unique values:"
      ],
      "metadata": {
        "id": "pUdo2YHGRgLL"
      }
    },
    {
      "cell_type": "code",
      "source": [
        "is_unique = df['DR_NO'].nunique() == len(df['DR_NO'])\n",
        "\n",
        "if is_unique:\n",
        "    print(\"The 'DR_NO' column has unique values.\")\n",
        "else:\n",
        "    print(\"The 'DR_NO' column does not have unique values.\")\n"
      ],
      "metadata": {
        "colab": {
          "base_uri": "https://localhost:8080/"
        },
        "id": "7us8lWIBViWF",
        "outputId": "d66b0d78-4cef-443c-a318-79e25302d62c"
      },
      "execution_count": null,
      "outputs": [
        {
          "output_type": "stream",
          "name": "stdout",
          "text": [
            "The 'DR_NO' column has unique values.\n"
          ]
        }
      ]
    },
    {
      "cell_type": "markdown",
      "source": [
        "Use PySpark for DF and JSON file:"
      ],
      "metadata": {
        "id": "JnRWN_0wRirG"
      }
    },
    {
      "cell_type": "code",
      "source": [
        "df2 = spark.read.option('header', 'true').csv('Crime_Data_from_2020_to_Present.csv')\n",
        "df2.show(n = 5, truncate = False)"
      ],
      "metadata": {
        "colab": {
          "base_uri": "https://localhost:8080/"
        },
        "id": "2gOa9hY4TEIH",
        "outputId": "54a80dbc-6961-4c42-c367-eee8f799ec36"
      },
      "execution_count": null,
      "outputs": [
        {
          "output_type": "stream",
          "name": "stdout",
          "text": [
            "+---------+----------------------+----------------------+--------+----+-----------+-----------+--------+------+-------------------------------------------------------+--------------+--------+--------+------------+---------+--------------------------------------------+--------------+----------------------------------------------+------+------------+--------+--------+--------+--------+----------------------------------------+------------+-------+---------+\n",
            "|DR_NO    |Date Rptd             |DATE OCC              |TIME OCC|AREA|AREA NAME  |Rpt Dist No|Part 1-2|Crm Cd|Crm Cd Desc                                            |Mocodes       |Vict Age|Vict Sex|Vict Descent|Premis Cd|Premis Desc                                 |Weapon Used Cd|Weapon Desc                                   |Status|Status Desc |Crm Cd 1|Crm Cd 2|Crm Cd 3|Crm Cd 4|LOCATION                                |Cross Street|LAT    |LON      |\n",
            "+---------+----------------------+----------------------+--------+----+-----------+-----------+--------+------+-------------------------------------------------------+--------------+--------+--------+------------+---------+--------------------------------------------+--------------+----------------------------------------------+------+------------+--------+--------+--------+--------+----------------------------------------+------------+-------+---------+\n",
            "|010304468|01/08/2020 12:00:00 AM|01/08/2020 12:00:00 AM|2230    |03  |Southwest  |0377       |2       |624   |BATTERY - SIMPLE ASSAULT                               |0444 0913     |36      |F       |B           |501      |SINGLE FAMILY DWELLING                      |400           |STRONG-ARM (HANDS, FIST, FEET OR BODILY FORCE)|AO    |Adult Other |624     |null    |null    |null    |1100 W  39TH                         PL |null        |34.0141|-118.2978|\n",
            "|190101086|01/02/2020 12:00:00 AM|01/01/2020 12:00:00 AM|0330    |01  |Central    |0163       |2       |624   |BATTERY - SIMPLE ASSAULT                               |0416 1822 1414|25      |M       |H           |102      |SIDEWALK                                    |500           |UNKNOWN WEAPON/OTHER WEAPON                   |IC    |Invest Cont |624     |null    |null    |null    |700 S  HILL                         ST  |null        |34.0459|-118.2545|\n",
            "|200110444|04/14/2020 12:00:00 AM|02/13/2020 12:00:00 AM|1200    |01  |Central    |0155       |2       |845   |SEX OFFENDER REGISTRANT OUT OF COMPLIANCE              |1501          |0       |X       |X           |726      |POLICE FACILITY                             |null          |null                                          |AA    |Adult Arrest|845     |null    |null    |null    |200 E  6TH                          ST  |null        |34.0448|-118.2474|\n",
            "|191501505|01/01/2020 12:00:00 AM|01/01/2020 12:00:00 AM|1730    |15  |N Hollywood|1543       |2       |745   |VANDALISM - MISDEAMEANOR ($399 OR UNDER)               |0329 1402     |76      |F       |W           |502      |MULTI-UNIT DWELLING (APARTMENT, DUPLEX, ETC)|null          |null                                          |IC    |Invest Cont |745     |998     |null    |null    |5400    CORTEEN                      PL |null        |34.1685|-118.4019|\n",
            "|191921269|01/01/2020 12:00:00 AM|01/01/2020 12:00:00 AM|0415    |19  |Mission    |1998       |2       |740   |VANDALISM - FELONY ($400 & OVER, ALL CHURCH VANDALISMS)|0329          |31      |X       |X           |409      |BEAUTY SUPPLY STORE                         |null          |null                                          |IC    |Invest Cont |740     |null    |null    |null    |14400    TITUS                        ST|null        |34.2198|-118.4468|\n",
            "+---------+----------------------+----------------------+--------+----+-----------+-----------+--------+------+-------------------------------------------------------+--------------+--------+--------+------------+---------+--------------------------------------------+--------------+----------------------------------------------+------+------------+--------+--------+--------+--------+----------------------------------------+------------+-------+---------+\n",
            "only showing top 5 rows\n",
            "\n"
          ]
        }
      ]
    },
    {
      "cell_type": "code",
      "source": [
        "df3 = spark.read.json('/content/part-00000-be315d42-5965-4c2e-913d-5a016dad2337-c000.json')\n",
        "df3.show(n = 5, truncate = False)"
      ],
      "metadata": {
        "id": "xa60nepqahau",
        "colab": {
          "base_uri": "https://localhost:8080/"
        },
        "outputId": "46456a82-c215-44ce-e0c3-4d52c42da4ef"
      },
      "execution_count": null,
      "outputs": [
        {
          "output_type": "stream",
          "name": "stdout",
          "text": [
            "+----+-----------+------+--------+--------+--------+--------+-------------------------------------------------------+------------+----------------------+---------+----------------------+-------+----------------------------------------+---------+--------------+--------+---------+--------------------------------------------+-----------+------+------------+--------+--------+------------+--------+----------------------------------------------+--------------+\n",
            "|AREA|AREA NAME  |Crm Cd|Crm Cd 1|Crm Cd 2|Crm Cd 3|Crm Cd 4|Crm Cd Desc                                            |Cross Street|DATE OCC              |DR_NO    |Date Rptd             |LAT    |LOCATION                                |LON      |Mocodes       |Part 1-2|Premis Cd|Premis Desc                                 |Rpt Dist No|Status|Status Desc |TIME OCC|Vict Age|Vict Descent|Vict Sex|Weapon Desc                                   |Weapon Used Cd|\n",
            "+----+-----------+------+--------+--------+--------+--------+-------------------------------------------------------+------------+----------------------+---------+----------------------+-------+----------------------------------------+---------+--------------+--------+---------+--------------------------------------------+-----------+------+------------+--------+--------+------------+--------+----------------------------------------------+--------------+\n",
            "|03  |Southwest  |624   |624     |null    |null    |null    |BATTERY - SIMPLE ASSAULT                               |null        |01/08/2020 12:00:00 AM|010304468|01/08/2020 12:00:00 AM|34.0141|1100 W  39TH                         PL |-118.2978|0444 0913     |2       |501      |SINGLE FAMILY DWELLING                      |0377       |AO    |Adult Other |2230    |36      |B           |F       |STRONG-ARM (HANDS, FIST, FEET OR BODILY FORCE)|400           |\n",
            "|01  |Central    |624   |624     |null    |null    |null    |BATTERY - SIMPLE ASSAULT                               |null        |01/01/2020 12:00:00 AM|190101086|01/02/2020 12:00:00 AM|34.0459|700 S  HILL                         ST  |-118.2545|0416 1822 1414|2       |102      |SIDEWALK                                    |0163       |IC    |Invest Cont |0330    |25      |H           |M       |UNKNOWN WEAPON/OTHER WEAPON                   |500           |\n",
            "|01  |Central    |845   |845     |null    |null    |null    |SEX OFFENDER REGISTRANT OUT OF COMPLIANCE              |null        |02/13/2020 12:00:00 AM|200110444|04/14/2020 12:00:00 AM|34.0448|200 E  6TH                          ST  |-118.2474|1501          |2       |726      |POLICE FACILITY                             |0155       |AA    |Adult Arrest|1200    |0       |X           |X       |null                                          |null          |\n",
            "|15  |N Hollywood|745   |745     |998     |null    |null    |VANDALISM - MISDEAMEANOR ($399 OR UNDER)               |null        |01/01/2020 12:00:00 AM|191501505|01/01/2020 12:00:00 AM|34.1685|5400    CORTEEN                      PL |-118.4019|0329 1402     |2       |502      |MULTI-UNIT DWELLING (APARTMENT, DUPLEX, ETC)|1543       |IC    |Invest Cont |1730    |76      |W           |F       |null                                          |null          |\n",
            "|19  |Mission    |740   |740     |null    |null    |null    |VANDALISM - FELONY ($400 & OVER, ALL CHURCH VANDALISMS)|null        |01/01/2020 12:00:00 AM|191921269|01/01/2020 12:00:00 AM|34.2198|14400    TITUS                        ST|-118.4468|0329          |2       |409      |BEAUTY SUPPLY STORE                         |1998       |IC    |Invest Cont |0415    |31      |X           |X       |null                                          |null          |\n",
            "+----+-----------+------+--------+--------+--------+--------+-------------------------------------------------------+------------+----------------------+---------+----------------------+-------+----------------------------------------+---------+--------------+--------+---------+--------------------------------------------+-----------+------+------------+--------+--------+------------+--------+----------------------------------------------+--------------+\n",
            "only showing top 5 rows\n",
            "\n"
          ]
        }
      ]
    }
  ]
}